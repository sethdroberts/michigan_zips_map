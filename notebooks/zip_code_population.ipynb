{
 "cells": [
  {
   "cell_type": "markdown",
   "metadata": {},
   "source": [
    "**Zip Code Population App**\n",
    "Objective: On a map of Michigan, have a flag/pin for each zip code, showing the county/town name + the population"
   ]
  },
  {
   "cell_type": "code",
   "execution_count": 129,
   "metadata": {},
   "outputs": [],
   "source": [
    "import os\n",
    "import streamlit as st\n",
    "import pandas as pd\n",
    "import numpy as np\n",
    "import plotly.express as px\n"
   ]
  },
  {
   "cell_type": "code",
   "execution_count": 130,
   "metadata": {},
   "outputs": [],
   "source": [
    "mapbox_access_token = os.environ['MAPBOX_API_KEY']"
   ]
  },
  {
   "cell_type": "code",
   "execution_count": 131,
   "metadata": {},
   "outputs": [
    {
     "data": {
      "text/html": [
       "<div>\n",
       "<style scoped>\n",
       "    .dataframe tbody tr th:only-of-type {\n",
       "        vertical-align: middle;\n",
       "    }\n",
       "\n",
       "    .dataframe tbody tr th {\n",
       "        vertical-align: top;\n",
       "    }\n",
       "\n",
       "    .dataframe thead th {\n",
       "        text-align: right;\n",
       "    }\n",
       "</style>\n",
       "<table border=\"1\" class=\"dataframe\">\n",
       "  <thead>\n",
       "    <tr style=\"text-align: right;\">\n",
       "      <th></th>\n",
       "      <th>ZIP</th>\n",
       "      <th>Latitude</th>\n",
       "      <th>Longitude</th>\n",
       "      <th>Accuracy Score</th>\n",
       "      <th>Accuracy Type</th>\n",
       "      <th>Number</th>\n",
       "      <th>Street</th>\n",
       "      <th>Unit Type</th>\n",
       "      <th>Unit Number</th>\n",
       "      <th>City</th>\n",
       "      <th>State</th>\n",
       "      <th>County</th>\n",
       "      <th>Zip</th>\n",
       "      <th>Population</th>\n",
       "      <th>Country</th>\n",
       "      <th>Source</th>\n",
       "      <th>Unnamed: 16</th>\n",
       "      <th>Unnamed: 17</th>\n",
       "      <th>Unnamed: 18</th>\n",
       "      <th>CityData</th>\n",
       "    </tr>\n",
       "  </thead>\n",
       "  <tbody>\n",
       "    <tr>\n",
       "      <th>0</th>\n",
       "      <td>12561.0</td>\n",
       "      <td>41.746380</td>\n",
       "      <td>-74.109241</td>\n",
       "      <td>1</td>\n",
       "      <td>place</td>\n",
       "      <td>NaN</td>\n",
       "      <td>NaN</td>\n",
       "      <td>NaN</td>\n",
       "      <td>NaN</td>\n",
       "      <td>New Paltz</td>\n",
       "      <td>NY</td>\n",
       "      <td>Ulster County</td>\n",
       "      <td>12561.0</td>\n",
       "      <td>12,561.00</td>\n",
       "      <td>US</td>\n",
       "      <td>TIGER/Line® dataset from the US Census Bureau</td>\n",
       "      <td>NaN</td>\n",
       "      <td>NaN</td>\n",
       "      <td>NaN</td>\n",
       "      <td>City: New Paltz, Population: 12561</td>\n",
       "    </tr>\n",
       "    <tr>\n",
       "      <th>1</th>\n",
       "      <td>48108.0</td>\n",
       "      <td>42.223305</td>\n",
       "      <td>-83.729342</td>\n",
       "      <td>1</td>\n",
       "      <td>place</td>\n",
       "      <td>NaN</td>\n",
       "      <td>NaN</td>\n",
       "      <td>NaN</td>\n",
       "      <td>NaN</td>\n",
       "      <td>Ann Arbor</td>\n",
       "      <td>MI</td>\n",
       "      <td>Washtenaw County</td>\n",
       "      <td>48108.0</td>\n",
       "      <td>48,108.00</td>\n",
       "      <td>US</td>\n",
       "      <td>TIGER/Line® dataset from the US Census Bureau</td>\n",
       "      <td>NaN</td>\n",
       "      <td>NaN</td>\n",
       "      <td>NaN</td>\n",
       "      <td>City: Ann Arbor, Population: 48108</td>\n",
       "    </tr>\n",
       "    <tr>\n",
       "      <th>2</th>\n",
       "      <td>NaN</td>\n",
       "      <td>0.000000</td>\n",
       "      <td>0.000000</td>\n",
       "      <td>0</td>\n",
       "      <td>NaN</td>\n",
       "      <td>NaN</td>\n",
       "      <td>NaN</td>\n",
       "      <td>NaN</td>\n",
       "      <td>NaN</td>\n",
       "      <td>NaN</td>\n",
       "      <td>NaN</td>\n",
       "      <td>NaN</td>\n",
       "      <td>NaN</td>\n",
       "      <td>-</td>\n",
       "      <td>NaN</td>\n",
       "      <td>NaN</td>\n",
       "      <td>NaN</td>\n",
       "      <td>NaN</td>\n",
       "      <td>NaN</td>\n",
       "      <td>City: , Population: 0</td>\n",
       "    </tr>\n",
       "    <tr>\n",
       "      <th>3</th>\n",
       "      <td>NaN</td>\n",
       "      <td>0.000000</td>\n",
       "      <td>0.000000</td>\n",
       "      <td>0</td>\n",
       "      <td>NaN</td>\n",
       "      <td>NaN</td>\n",
       "      <td>NaN</td>\n",
       "      <td>NaN</td>\n",
       "      <td>NaN</td>\n",
       "      <td>NaN</td>\n",
       "      <td>NaN</td>\n",
       "      <td>NaN</td>\n",
       "      <td>NaN</td>\n",
       "      <td>-</td>\n",
       "      <td>NaN</td>\n",
       "      <td>NaN</td>\n",
       "      <td>NaN</td>\n",
       "      <td>NaN</td>\n",
       "      <td>NaN</td>\n",
       "      <td>City: , Population: 0</td>\n",
       "    </tr>\n",
       "    <tr>\n",
       "      <th>4</th>\n",
       "      <td>98374.0</td>\n",
       "      <td>47.139095</td>\n",
       "      <td>-122.258646</td>\n",
       "      <td>1</td>\n",
       "      <td>place</td>\n",
       "      <td>NaN</td>\n",
       "      <td>NaN</td>\n",
       "      <td>NaN</td>\n",
       "      <td>NaN</td>\n",
       "      <td>Puyallup</td>\n",
       "      <td>WA</td>\n",
       "      <td>Pierce County</td>\n",
       "      <td>98374.0</td>\n",
       "      <td>98,374.00</td>\n",
       "      <td>US</td>\n",
       "      <td>TIGER/Line® dataset from the US Census Bureau</td>\n",
       "      <td>NaN</td>\n",
       "      <td>NaN</td>\n",
       "      <td>NaN</td>\n",
       "      <td>City: Puyallup, Population: 98374</td>\n",
       "    </tr>\n",
       "  </tbody>\n",
       "</table>\n",
       "</div>"
      ],
      "text/plain": [
       "       ZIP   Latitude   Longitude  Accuracy Score Accuracy Type  Number  \\\n",
       "0  12561.0  41.746380  -74.109241               1         place     NaN   \n",
       "1  48108.0  42.223305  -83.729342               1         place     NaN   \n",
       "2      NaN   0.000000    0.000000               0           NaN     NaN   \n",
       "3      NaN   0.000000    0.000000               0           NaN     NaN   \n",
       "4  98374.0  47.139095 -122.258646               1         place     NaN   \n",
       "\n",
       "   Street  Unit Type  Unit Number       City State            County      Zip  \\\n",
       "0     NaN        NaN          NaN  New Paltz    NY     Ulster County  12561.0   \n",
       "1     NaN        NaN          NaN  Ann Arbor    MI  Washtenaw County  48108.0   \n",
       "2     NaN        NaN          NaN        NaN   NaN               NaN      NaN   \n",
       "3     NaN        NaN          NaN        NaN   NaN               NaN      NaN   \n",
       "4     NaN        NaN          NaN   Puyallup    WA     Pierce County  98374.0   \n",
       "\n",
       "  Population Country                                         Source  \\\n",
       "0  12,561.00      US  TIGER/Line® dataset from the US Census Bureau   \n",
       "1  48,108.00      US  TIGER/Line® dataset from the US Census Bureau   \n",
       "2       -        NaN                                            NaN   \n",
       "3       -        NaN                                            NaN   \n",
       "4  98,374.00      US  TIGER/Line® dataset from the US Census Bureau   \n",
       "\n",
       "   Unnamed: 16  Unnamed: 17  Unnamed: 18                              CityData  \n",
       "0          NaN          NaN          NaN   City: New Paltz, Population: 12561   \n",
       "1          NaN          NaN          NaN   City: Ann Arbor, Population: 48108   \n",
       "2          NaN          NaN          NaN                City: , Population: 0   \n",
       "3          NaN          NaN          NaN                City: , Population: 0   \n",
       "4          NaN          NaN          NaN    City: Puyallup, Population: 98374   "
      ]
     },
     "execution_count": 131,
     "metadata": {},
     "output_type": "execute_result"
    }
   ],
   "source": [
    "data = pd.read_csv('Zip_code_to_coordinates_sample_results.csv')\n",
    "data.head()"
   ]
  },
  {
   "cell_type": "code",
   "execution_count": 132,
   "metadata": {},
   "outputs": [],
   "source": [
    "data.dropna(subset=['Zip'], inplace=True)"
   ]
  },
  {
   "cell_type": "code",
   "execution_count": 133,
   "metadata": {},
   "outputs": [
    {
     "data": {
      "text/html": [
       "<div>\n",
       "<style scoped>\n",
       "    .dataframe tbody tr th:only-of-type {\n",
       "        vertical-align: middle;\n",
       "    }\n",
       "\n",
       "    .dataframe tbody tr th {\n",
       "        vertical-align: top;\n",
       "    }\n",
       "\n",
       "    .dataframe thead th {\n",
       "        text-align: right;\n",
       "    }\n",
       "</style>\n",
       "<table border=\"1\" class=\"dataframe\">\n",
       "  <thead>\n",
       "    <tr style=\"text-align: right;\">\n",
       "      <th></th>\n",
       "      <th>ZIP</th>\n",
       "      <th>Latitude</th>\n",
       "      <th>Longitude</th>\n",
       "      <th>Accuracy Score</th>\n",
       "      <th>Accuracy Type</th>\n",
       "      <th>Number</th>\n",
       "      <th>Street</th>\n",
       "      <th>Unit Type</th>\n",
       "      <th>Unit Number</th>\n",
       "      <th>City</th>\n",
       "      <th>State</th>\n",
       "      <th>County</th>\n",
       "      <th>Zip</th>\n",
       "      <th>Population</th>\n",
       "      <th>Country</th>\n",
       "      <th>Source</th>\n",
       "      <th>Unnamed: 16</th>\n",
       "      <th>Unnamed: 17</th>\n",
       "      <th>Unnamed: 18</th>\n",
       "      <th>CityData</th>\n",
       "    </tr>\n",
       "  </thead>\n",
       "  <tbody>\n",
       "    <tr>\n",
       "      <th>0</th>\n",
       "      <td>12561.0</td>\n",
       "      <td>41.746380</td>\n",
       "      <td>-74.109241</td>\n",
       "      <td>1</td>\n",
       "      <td>place</td>\n",
       "      <td>NaN</td>\n",
       "      <td>NaN</td>\n",
       "      <td>NaN</td>\n",
       "      <td>NaN</td>\n",
       "      <td>New Paltz</td>\n",
       "      <td>NY</td>\n",
       "      <td>Ulster County</td>\n",
       "      <td>12561.0</td>\n",
       "      <td>12,561.00</td>\n",
       "      <td>US</td>\n",
       "      <td>TIGER/Line® dataset from the US Census Bureau</td>\n",
       "      <td>NaN</td>\n",
       "      <td>NaN</td>\n",
       "      <td>NaN</td>\n",
       "      <td>City: New Paltz, Population: 12561</td>\n",
       "    </tr>\n",
       "    <tr>\n",
       "      <th>1</th>\n",
       "      <td>48108.0</td>\n",
       "      <td>42.223305</td>\n",
       "      <td>-83.729342</td>\n",
       "      <td>1</td>\n",
       "      <td>place</td>\n",
       "      <td>NaN</td>\n",
       "      <td>NaN</td>\n",
       "      <td>NaN</td>\n",
       "      <td>NaN</td>\n",
       "      <td>Ann Arbor</td>\n",
       "      <td>MI</td>\n",
       "      <td>Washtenaw County</td>\n",
       "      <td>48108.0</td>\n",
       "      <td>48,108.00</td>\n",
       "      <td>US</td>\n",
       "      <td>TIGER/Line® dataset from the US Census Bureau</td>\n",
       "      <td>NaN</td>\n",
       "      <td>NaN</td>\n",
       "      <td>NaN</td>\n",
       "      <td>City: Ann Arbor, Population: 48108</td>\n",
       "    </tr>\n",
       "    <tr>\n",
       "      <th>4</th>\n",
       "      <td>98374.0</td>\n",
       "      <td>47.139095</td>\n",
       "      <td>-122.258646</td>\n",
       "      <td>1</td>\n",
       "      <td>place</td>\n",
       "      <td>NaN</td>\n",
       "      <td>NaN</td>\n",
       "      <td>NaN</td>\n",
       "      <td>NaN</td>\n",
       "      <td>Puyallup</td>\n",
       "      <td>WA</td>\n",
       "      <td>Pierce County</td>\n",
       "      <td>98374.0</td>\n",
       "      <td>98,374.00</td>\n",
       "      <td>US</td>\n",
       "      <td>TIGER/Line® dataset from the US Census Bureau</td>\n",
       "      <td>NaN</td>\n",
       "      <td>NaN</td>\n",
       "      <td>NaN</td>\n",
       "      <td>City: Puyallup, Population: 98374</td>\n",
       "    </tr>\n",
       "    <tr>\n",
       "      <th>5</th>\n",
       "      <td>64145.0</td>\n",
       "      <td>38.880570</td>\n",
       "      <td>-94.595958</td>\n",
       "      <td>1</td>\n",
       "      <td>place</td>\n",
       "      <td>NaN</td>\n",
       "      <td>NaN</td>\n",
       "      <td>NaN</td>\n",
       "      <td>NaN</td>\n",
       "      <td>Kansas City</td>\n",
       "      <td>MO</td>\n",
       "      <td>Jackson County</td>\n",
       "      <td>64145.0</td>\n",
       "      <td>64,145.00</td>\n",
       "      <td>US</td>\n",
       "      <td>TIGER/Line® dataset from the US Census Bureau</td>\n",
       "      <td>NaN</td>\n",
       "      <td>NaN</td>\n",
       "      <td>NaN</td>\n",
       "      <td>City: Kansas City, Population: 64145</td>\n",
       "    </tr>\n",
       "    <tr>\n",
       "      <th>6</th>\n",
       "      <td>92345.0</td>\n",
       "      <td>34.374627</td>\n",
       "      <td>-117.300435</td>\n",
       "      <td>1</td>\n",
       "      <td>place</td>\n",
       "      <td>NaN</td>\n",
       "      <td>NaN</td>\n",
       "      <td>NaN</td>\n",
       "      <td>NaN</td>\n",
       "      <td>Hesperia</td>\n",
       "      <td>CA</td>\n",
       "      <td>San Bernardino County</td>\n",
       "      <td>92345.0</td>\n",
       "      <td>92,345.00</td>\n",
       "      <td>US</td>\n",
       "      <td>TIGER/Line® dataset from the US Census Bureau</td>\n",
       "      <td>NaN</td>\n",
       "      <td>NaN</td>\n",
       "      <td>NaN</td>\n",
       "      <td>City: Hesperia, Population: 92345</td>\n",
       "    </tr>\n",
       "  </tbody>\n",
       "</table>\n",
       "</div>"
      ],
      "text/plain": [
       "       ZIP   Latitude   Longitude  Accuracy Score Accuracy Type  Number  \\\n",
       "0  12561.0  41.746380  -74.109241               1         place     NaN   \n",
       "1  48108.0  42.223305  -83.729342               1         place     NaN   \n",
       "4  98374.0  47.139095 -122.258646               1         place     NaN   \n",
       "5  64145.0  38.880570  -94.595958               1         place     NaN   \n",
       "6  92345.0  34.374627 -117.300435               1         place     NaN   \n",
       "\n",
       "   Street  Unit Type  Unit Number         City State                 County  \\\n",
       "0     NaN        NaN          NaN    New Paltz    NY          Ulster County   \n",
       "1     NaN        NaN          NaN    Ann Arbor    MI       Washtenaw County   \n",
       "4     NaN        NaN          NaN     Puyallup    WA          Pierce County   \n",
       "5     NaN        NaN          NaN  Kansas City    MO         Jackson County   \n",
       "6     NaN        NaN          NaN     Hesperia    CA  San Bernardino County   \n",
       "\n",
       "       Zip Population Country                                         Source  \\\n",
       "0  12561.0  12,561.00      US  TIGER/Line® dataset from the US Census Bureau   \n",
       "1  48108.0  48,108.00      US  TIGER/Line® dataset from the US Census Bureau   \n",
       "4  98374.0  98,374.00      US  TIGER/Line® dataset from the US Census Bureau   \n",
       "5  64145.0  64,145.00      US  TIGER/Line® dataset from the US Census Bureau   \n",
       "6  92345.0  92,345.00      US  TIGER/Line® dataset from the US Census Bureau   \n",
       "\n",
       "   Unnamed: 16  Unnamed: 17  Unnamed: 18  \\\n",
       "0          NaN          NaN          NaN   \n",
       "1          NaN          NaN          NaN   \n",
       "4          NaN          NaN          NaN   \n",
       "5          NaN          NaN          NaN   \n",
       "6          NaN          NaN          NaN   \n",
       "\n",
       "                                 CityData  \n",
       "0     City: New Paltz, Population: 12561   \n",
       "1     City: Ann Arbor, Population: 48108   \n",
       "4      City: Puyallup, Population: 98374   \n",
       "5   City: Kansas City, Population: 64145   \n",
       "6      City: Hesperia, Population: 92345   "
      ]
     },
     "execution_count": 133,
     "metadata": {},
     "output_type": "execute_result"
    }
   ],
   "source": [
    "data.head()"
   ]
  },
  {
   "cell_type": "code",
   "execution_count": 134,
   "metadata": {},
   "outputs": [
    {
     "data": {
      "application/vnd.plotly.v1+json": {
       "config": {
        "plotlyServerURL": "https://plot.ly"
       },
       "data": [
        {
         "hovertemplate": "<b>%{hovertext}</b><br><br>Zip=%{marker.color}<br>Latitude=%{lat}<br>Longitude=%{lon}<extra></extra>",
         "hovertext": [
          "New Paltz",
          "Ann Arbor",
          "Puyallup",
          "Kansas City",
          "Hesperia",
          "Omaha",
          "Orlando",
          "Los Banos",
          "Fort Worth",
          "Columbus",
          "Turlock",
          "Southaven",
          "Los Alamos",
          "Shorewood",
          "Dallas",
          "El Dorado Hills",
          "Charleston",
          "Oregon",
          "Federal Way",
          "Alexandria",
          "Murrysville",
          "Sioux Falls",
          "Stillwater",
          "Atlanta",
          "Chicago",
          "Raleigh",
          "Spokane",
          "Brooklyn",
          "San Diego",
          "East Greenbush",
          "Seattle",
          "Saginaw",
          "Peoria",
          "Coronado",
          "San Francisco"
         ],
         "lat": [
          41.74638,
          42.223305,
          47.139095,
          38.88057,
          34.374627,
          41.263262,
          28.390234,
          37.103768,
          32.831354,
          39.191447,
          37.474396,
          34.956633,
          35.849514,
          41.52003,
          32.76313,
          38.686847,
          32.780326,
          41.656948,
          47.311414,
          38.827627,
          40.4284,
          43.546358,
          36.167933,
          33.876752,
          41.8957,
          35.773632,
          47.670693,
          40.622459,
          32.774699,
          42.570352,
          47.540246,
          43.482403,
          33.573244,
          32.699235,
          37.799367
         ],
         "legendgroup": "",
         "lon": [
          -74.109241,
          -83.729342,
          -122.258646,
          -94.595958,
          -117.300435,
          -96.053634,
          -81.433155,
          -120.847479,
          -97.051969,
          -85.891338,
          -120.875918,
          -89.99624,
          -106.288482,
          -88.20173,
          -96.798372,
          -121.044846,
          -79.940844,
          -83.44433,
          -122.36291,
          -77.089566,
          -79.69754,
          -96.69063,
          -97.068895,
          -84.329124,
          -87.613775,
          -78.634457,
          -117.310991,
          -74.028749,
          -117.148616,
          -73.655682,
          -122.268545,
          -83.969391,
          -112.245852,
          -117.209642,
          -122.398407
         ],
         "marker": {
          "color": [
           12561,
           48108,
           98374,
           64145,
           92345,
           68114,
           32837,
           93635,
           76155,
           47201,
           95380,
           38671,
           87544,
           60404,
           75207,
           95762,
           29401,
           43616,
           98023,
           22302,
           15668,
           57101,
           74075,
           30319,
           60611,
           27601,
           99212,
           11209,
           92108,
           12061,
           98118,
           48604,
           85345,
           92118,
           94111
          ],
          "coloraxis": "coloraxis",
          "size": [
           12561,
           48108,
           98374,
           64145,
           92345,
           68114,
           32837,
           93635,
           76155,
           47201,
           95380,
           38671,
           87544,
           60404,
           75207,
           95762,
           29401,
           43616,
           98023,
           22302,
           15668,
           57101,
           74075,
           30319,
           60611,
           27601,
           99212,
           11209,
           92108,
           12061,
           98118,
           48604,
           85345,
           92118,
           94111
          ],
          "sizemode": "area",
          "sizeref": 440.9422222222222
         },
         "mode": "markers",
         "name": "",
         "showlegend": false,
         "subplot": "mapbox",
         "type": "scattermapbox"
        }
       ],
       "layout": {
        "autosize": true,
        "coloraxis": {
         "colorbar": {
          "title": {
           "text": "Zip"
          }
         },
         "colorscale": [
          [
           0,
           "#000000"
          ],
          [
           0.0625,
           "#001f4d"
          ],
          [
           0.125,
           "#003786"
          ],
          [
           0.1875,
           "#0e58a8"
          ],
          [
           0.25,
           "#217eb8"
          ],
          [
           0.3125,
           "#30a4ca"
          ],
          [
           0.375,
           "#54c8df"
          ],
          [
           0.4375,
           "#9be4ef"
          ],
          [
           0.5,
           "#e1e9d1"
          ],
          [
           0.5625,
           "#f3d573"
          ],
          [
           0.625,
           "#e7b000"
          ],
          [
           0.6875,
           "#da8200"
          ],
          [
           0.75,
           "#c65400"
          ],
          [
           0.8125,
           "#ac2301"
          ],
          [
           0.875,
           "#820000"
          ],
          [
           0.9375,
           "#4c0000"
          ],
          [
           1,
           "#000000"
          ]
         ]
        },
        "hovermode": "closest",
        "legend": {
         "itemsizing": "constant",
         "tracegroupgap": 0
        },
        "mapbox": {
         "accesstoken": "pk.eyJ1Ijoic2V0aGRyb2JlcnRzIiwiYSI6ImNsbmFmYnNzZzAyYnQyc28xZmVmcHdibWQifQ.kdh8qniKjtmEdMEiexGgOQ",
         "bearing": 0,
         "center": {
          "lat": 38,
          "lon": -94
         },
         "domain": {
          "x": [
           0,
           1
          ],
          "y": [
           0,
           1
          ]
         },
         "pitch": 0,
         "style": "light",
         "zoom": 3
        },
        "margin": {
         "t": 60
        },
        "showlegend": false,
        "template": {
         "data": {
          "candlestick": [
           {
            "decreasing": {
             "line": {
              "color": "#000033"
             }
            },
            "increasing": {
             "line": {
              "color": "#000032"
             }
            },
            "type": "candlestick"
           }
          ],
          "contour": [
           {
            "colorscale": [
             [
              0,
              "#000011"
             ],
             [
              0.1111111111111111,
              "#000012"
             ],
             [
              0.2222222222222222,
              "#000013"
             ],
             [
              0.3333333333333333,
              "#000014"
             ],
             [
              0.4444444444444444,
              "#000015"
             ],
             [
              0.5555555555555556,
              "#000016"
             ],
             [
              0.6666666666666666,
              "#000017"
             ],
             [
              0.7777777777777778,
              "#000018"
             ],
             [
              0.8888888888888888,
              "#000019"
             ],
             [
              1,
              "#000020"
             ]
            ],
            "type": "contour"
           }
          ],
          "contourcarpet": [
           {
            "colorscale": [
             [
              0,
              "#000011"
             ],
             [
              0.1111111111111111,
              "#000012"
             ],
             [
              0.2222222222222222,
              "#000013"
             ],
             [
              0.3333333333333333,
              "#000014"
             ],
             [
              0.4444444444444444,
              "#000015"
             ],
             [
              0.5555555555555556,
              "#000016"
             ],
             [
              0.6666666666666666,
              "#000017"
             ],
             [
              0.7777777777777778,
              "#000018"
             ],
             [
              0.8888888888888888,
              "#000019"
             ],
             [
              1,
              "#000020"
             ]
            ],
            "type": "contourcarpet"
           }
          ],
          "heatmap": [
           {
            "colorscale": [
             [
              0,
              "#000011"
             ],
             [
              0.1111111111111111,
              "#000012"
             ],
             [
              0.2222222222222222,
              "#000013"
             ],
             [
              0.3333333333333333,
              "#000014"
             ],
             [
              0.4444444444444444,
              "#000015"
             ],
             [
              0.5555555555555556,
              "#000016"
             ],
             [
              0.6666666666666666,
              "#000017"
             ],
             [
              0.7777777777777778,
              "#000018"
             ],
             [
              0.8888888888888888,
              "#000019"
             ],
             [
              1,
              "#000020"
             ]
            ],
            "type": "heatmap"
           }
          ],
          "histogram2d": [
           {
            "colorscale": [
             [
              0,
              "#000011"
             ],
             [
              0.1111111111111111,
              "#000012"
             ],
             [
              0.2222222222222222,
              "#000013"
             ],
             [
              0.3333333333333333,
              "#000014"
             ],
             [
              0.4444444444444444,
              "#000015"
             ],
             [
              0.5555555555555556,
              "#000016"
             ],
             [
              0.6666666666666666,
              "#000017"
             ],
             [
              0.7777777777777778,
              "#000018"
             ],
             [
              0.8888888888888888,
              "#000019"
             ],
             [
              1,
              "#000020"
             ]
            ],
            "type": "histogram2d"
           }
          ],
          "icicle": [
           {
            "textfont": {
             "color": "white"
            },
            "type": "icicle"
           }
          ],
          "sankey": [
           {
            "textfont": {
             "color": "#000036"
            },
            "type": "sankey"
           }
          ],
          "scatter": [
           {
            "marker": {
             "line": {
              "width": 0
             }
            },
            "type": "scatter"
           }
          ],
          "table": [
           {
            "cells": {
             "fill": {
              "color": "#000038"
             },
             "font": {
              "color": "#000037"
             },
             "line": {
              "color": "#000039"
             }
            },
            "header": {
             "fill": {
              "color": "#000040"
             },
             "font": {
              "color": "#000036"
             },
             "line": {
              "color": "#000039"
             }
            },
            "type": "table"
           }
          ],
          "waterfall": [
           {
            "connector": {
             "line": {
              "color": "#000036",
              "width": 2
             }
            },
            "decreasing": {
             "marker": {
              "color": "#000033"
             }
            },
            "increasing": {
             "marker": {
              "color": "#000032"
             }
            },
            "totals": {
             "marker": {
              "color": "#000034"
             }
            },
            "type": "waterfall"
           }
          ]
         },
         "layout": {
          "coloraxis": {
           "colorscale": [
            [
             0,
             "#000011"
            ],
            [
             0.1111111111111111,
             "#000012"
            ],
            [
             0.2222222222222222,
             "#000013"
            ],
            [
             0.3333333333333333,
             "#000014"
            ],
            [
             0.4444444444444444,
             "#000015"
            ],
            [
             0.5555555555555556,
             "#000016"
            ],
            [
             0.6666666666666666,
             "#000017"
            ],
            [
             0.7777777777777778,
             "#000018"
            ],
            [
             0.8888888888888888,
             "#000019"
            ],
            [
             1,
             "#000020"
            ]
           ]
          },
          "colorscale": {
           "diverging": [
            [
             0,
             "#000021"
            ],
            [
             0.1,
             "#000022"
            ],
            [
             0.2,
             "#000023"
            ],
            [
             0.3,
             "#000024"
            ],
            [
             0.4,
             "#000025"
            ],
            [
             0.5,
             "#000026"
            ],
            [
             0.6,
             "#000027"
            ],
            [
             0.7,
             "#000028"
            ],
            [
             0.8,
             "#000029"
            ],
            [
             0.9,
             "#000030"
            ],
            [
             1,
             "#000031"
            ]
           ],
           "sequential": [
            [
             0,
             "#000011"
            ],
            [
             0.1111111111111111,
             "#000012"
            ],
            [
             0.2222222222222222,
             "#000013"
            ],
            [
             0.3333333333333333,
             "#000014"
            ],
            [
             0.4444444444444444,
             "#000015"
            ],
            [
             0.5555555555555556,
             "#000016"
            ],
            [
             0.6666666666666666,
             "#000017"
            ],
            [
             0.7777777777777778,
             "#000018"
            ],
            [
             0.8888888888888888,
             "#000019"
            ],
            [
             1,
             "#000020"
            ]
           ],
           "sequentialminus": [
            [
             0,
             "#000011"
            ],
            [
             0.1111111111111111,
             "#000012"
            ],
            [
             0.2222222222222222,
             "#000013"
            ],
            [
             0.3333333333333333,
             "#000014"
            ],
            [
             0.4444444444444444,
             "#000015"
            ],
            [
             0.5555555555555556,
             "#000016"
            ],
            [
             0.6666666666666666,
             "#000017"
            ],
            [
             0.7777777777777778,
             "#000018"
            ],
            [
             0.8888888888888888,
             "#000019"
            ],
            [
             1,
             "#000020"
            ]
           ]
          },
          "colorway": [
           "#000001",
           "#000002",
           "#000003",
           "#000004",
           "#000005",
           "#000006",
           "#000007",
           "#000008",
           "#000009",
           "#000010"
          ]
         }
        },
        "title": {
         "text": "Michigan Zip Codes by Population"
        }
       }
      },
      "text/html": [
       "<div>                            <div id=\"6108df2e-d92c-44e9-b905-b33dd47f7653\" class=\"plotly-graph-div\" style=\"height:525px; width:100%;\"></div>            <script type=\"text/javascript\">                require([\"plotly\"], function(Plotly) {                    window.PLOTLYENV=window.PLOTLYENV || {};                                    if (document.getElementById(\"6108df2e-d92c-44e9-b905-b33dd47f7653\")) {                    Plotly.newPlot(                        \"6108df2e-d92c-44e9-b905-b33dd47f7653\",                        [{\"hovertemplate\":\"\\u003cb\\u003e%{hovertext}\\u003c\\u002fb\\u003e\\u003cbr\\u003e\\u003cbr\\u003eZip=%{marker.color}\\u003cbr\\u003eLatitude=%{lat}\\u003cbr\\u003eLongitude=%{lon}\\u003cextra\\u003e\\u003c\\u002fextra\\u003e\",\"hovertext\":[\"New Paltz\",\"Ann Arbor\",\"Puyallup\",\"Kansas City\",\"Hesperia\",\"Omaha\",\"Orlando\",\"Los Banos\",\"Fort Worth\",\"Columbus\",\"Turlock\",\"Southaven\",\"Los Alamos\",\"Shorewood\",\"Dallas\",\"El Dorado Hills\",\"Charleston\",\"Oregon\",\"Federal Way\",\"Alexandria\",\"Murrysville\",\"Sioux Falls\",\"Stillwater\",\"Atlanta\",\"Chicago\",\"Raleigh\",\"Spokane\",\"Brooklyn\",\"San Diego\",\"East Greenbush\",\"Seattle\",\"Saginaw\",\"Peoria\",\"Coronado\",\"San Francisco\"],\"lat\":[41.74638,42.223305,47.139095,38.88057,34.374627,41.263262,28.390234,37.103768,32.831354,39.191447,37.474396,34.956633,35.849514,41.52003,32.76313,38.686847,32.780326,41.656948,47.311414,38.827627,40.4284,43.546358,36.167933,33.876752,41.8957,35.773632,47.670693,40.622459,32.774699,42.570352,47.540246,43.482403,33.573244,32.699235,37.799367],\"legendgroup\":\"\",\"lon\":[-74.109241,-83.729342,-122.258646,-94.595958,-117.300435,-96.053634,-81.433155,-120.847479,-97.051969,-85.891338,-120.875918,-89.99624,-106.288482,-88.20173,-96.798372,-121.044846,-79.940844,-83.44433,-122.36291,-77.089566,-79.69754,-96.69063,-97.068895,-84.329124,-87.613775,-78.634457,-117.310991,-74.028749,-117.148616,-73.655682,-122.268545,-83.969391,-112.245852,-117.209642,-122.398407],\"marker\":{\"color\":[12561.0,48108.0,98374.0,64145.0,92345.0,68114.0,32837.0,93635.0,76155.0,47201.0,95380.0,38671.0,87544.0,60404.0,75207.0,95762.0,29401.0,43616.0,98023.0,22302.0,15668.0,57101.0,74075.0,30319.0,60611.0,27601.0,99212.0,11209.0,92108.0,12061.0,98118.0,48604.0,85345.0,92118.0,94111.0],\"coloraxis\":\"coloraxis\",\"size\":[12561.0,48108.0,98374.0,64145.0,92345.0,68114.0,32837.0,93635.0,76155.0,47201.0,95380.0,38671.0,87544.0,60404.0,75207.0,95762.0,29401.0,43616.0,98023.0,22302.0,15668.0,57101.0,74075.0,30319.0,60611.0,27601.0,99212.0,11209.0,92108.0,12061.0,98118.0,48604.0,85345.0,92118.0,94111.0],\"sizemode\":\"area\",\"sizeref\":440.9422222222222},\"mode\":\"markers\",\"name\":\"\",\"showlegend\":false,\"subplot\":\"mapbox\",\"type\":\"scattermapbox\"}],                        {\"template\":{\"data\":{\"candlestick\":[{\"decreasing\":{\"line\":{\"color\":\"#000033\"}},\"increasing\":{\"line\":{\"color\":\"#000032\"}},\"type\":\"candlestick\"}],\"contourcarpet\":[{\"colorscale\":[[0.0,\"#000011\"],[0.1111111111111111,\"#000012\"],[0.2222222222222222,\"#000013\"],[0.3333333333333333,\"#000014\"],[0.4444444444444444,\"#000015\"],[0.5555555555555556,\"#000016\"],[0.6666666666666666,\"#000017\"],[0.7777777777777778,\"#000018\"],[0.8888888888888888,\"#000019\"],[1.0,\"#000020\"]],\"type\":\"contourcarpet\"}],\"contour\":[{\"colorscale\":[[0.0,\"#000011\"],[0.1111111111111111,\"#000012\"],[0.2222222222222222,\"#000013\"],[0.3333333333333333,\"#000014\"],[0.4444444444444444,\"#000015\"],[0.5555555555555556,\"#000016\"],[0.6666666666666666,\"#000017\"],[0.7777777777777778,\"#000018\"],[0.8888888888888888,\"#000019\"],[1.0,\"#000020\"]],\"type\":\"contour\"}],\"heatmap\":[{\"colorscale\":[[0.0,\"#000011\"],[0.1111111111111111,\"#000012\"],[0.2222222222222222,\"#000013\"],[0.3333333333333333,\"#000014\"],[0.4444444444444444,\"#000015\"],[0.5555555555555556,\"#000016\"],[0.6666666666666666,\"#000017\"],[0.7777777777777778,\"#000018\"],[0.8888888888888888,\"#000019\"],[1.0,\"#000020\"]],\"type\":\"heatmap\"}],\"histogram2d\":[{\"colorscale\":[[0.0,\"#000011\"],[0.1111111111111111,\"#000012\"],[0.2222222222222222,\"#000013\"],[0.3333333333333333,\"#000014\"],[0.4444444444444444,\"#000015\"],[0.5555555555555556,\"#000016\"],[0.6666666666666666,\"#000017\"],[0.7777777777777778,\"#000018\"],[0.8888888888888888,\"#000019\"],[1.0,\"#000020\"]],\"type\":\"histogram2d\"}],\"icicle\":[{\"textfont\":{\"color\":\"white\"},\"type\":\"icicle\"}],\"sankey\":[{\"textfont\":{\"color\":\"#000036\"},\"type\":\"sankey\"}],\"scatter\":[{\"marker\":{\"line\":{\"width\":0}},\"type\":\"scatter\"}],\"table\":[{\"cells\":{\"fill\":{\"color\":\"#000038\"},\"font\":{\"color\":\"#000037\"},\"line\":{\"color\":\"#000039\"}},\"header\":{\"fill\":{\"color\":\"#000040\"},\"font\":{\"color\":\"#000036\"},\"line\":{\"color\":\"#000039\"}},\"type\":\"table\"}],\"waterfall\":[{\"connector\":{\"line\":{\"color\":\"#000036\",\"width\":2}},\"decreasing\":{\"marker\":{\"color\":\"#000033\"}},\"increasing\":{\"marker\":{\"color\":\"#000032\"}},\"totals\":{\"marker\":{\"color\":\"#000034\"}},\"type\":\"waterfall\"}]},\"layout\":{\"coloraxis\":{\"colorscale\":[[0.0,\"#000011\"],[0.1111111111111111,\"#000012\"],[0.2222222222222222,\"#000013\"],[0.3333333333333333,\"#000014\"],[0.4444444444444444,\"#000015\"],[0.5555555555555556,\"#000016\"],[0.6666666666666666,\"#000017\"],[0.7777777777777778,\"#000018\"],[0.8888888888888888,\"#000019\"],[1.0,\"#000020\"]]},\"colorscale\":{\"diverging\":[[0.0,\"#000021\"],[0.1,\"#000022\"],[0.2,\"#000023\"],[0.3,\"#000024\"],[0.4,\"#000025\"],[0.5,\"#000026\"],[0.6,\"#000027\"],[0.7,\"#000028\"],[0.8,\"#000029\"],[0.9,\"#000030\"],[1.0,\"#000031\"]],\"sequential\":[[0.0,\"#000011\"],[0.1111111111111111,\"#000012\"],[0.2222222222222222,\"#000013\"],[0.3333333333333333,\"#000014\"],[0.4444444444444444,\"#000015\"],[0.5555555555555556,\"#000016\"],[0.6666666666666666,\"#000017\"],[0.7777777777777778,\"#000018\"],[0.8888888888888888,\"#000019\"],[1.0,\"#000020\"]],\"sequentialminus\":[[0.0,\"#000011\"],[0.1111111111111111,\"#000012\"],[0.2222222222222222,\"#000013\"],[0.3333333333333333,\"#000014\"],[0.4444444444444444,\"#000015\"],[0.5555555555555556,\"#000016\"],[0.6666666666666666,\"#000017\"],[0.7777777777777778,\"#000018\"],[0.8888888888888888,\"#000019\"],[1.0,\"#000020\"]]},\"colorway\":[\"#000001\",\"#000002\",\"#000003\",\"#000004\",\"#000005\",\"#000006\",\"#000007\",\"#000008\",\"#000009\",\"#000010\"]}},\"mapbox\":{\"domain\":{\"x\":[0.0,1.0],\"y\":[0.0,1.0]},\"center\":{\"lat\":38,\"lon\":-94},\"accesstoken\":\"pk.eyJ1Ijoic2V0aGRyb2JlcnRzIiwiYSI6ImNsbmFmYnNzZzAyYnQyc28xZmVmcHdibWQifQ.kdh8qniKjtmEdMEiexGgOQ\",\"zoom\":3,\"bearing\":0,\"pitch\":0,\"style\":\"light\"},\"coloraxis\":{\"colorbar\":{\"title\":{\"text\":\"Zip\"}},\"colorscale\":[[0.0,\"#000000\"],[0.0625,\"#001f4d\"],[0.125,\"#003786\"],[0.1875,\"#0e58a8\"],[0.25,\"#217eb8\"],[0.3125,\"#30a4ca\"],[0.375,\"#54c8df\"],[0.4375,\"#9be4ef\"],[0.5,\"#e1e9d1\"],[0.5625,\"#f3d573\"],[0.625,\"#e7b000\"],[0.6875,\"#da8200\"],[0.75,\"#c65400\"],[0.8125,\"#ac2301\"],[0.875,\"#820000\"],[0.9375,\"#4c0000\"],[1.0,\"#000000\"]]},\"legend\":{\"tracegroupgap\":0,\"itemsizing\":\"constant\"},\"margin\":{\"t\":60},\"title\":{\"text\":\"Michigan Zip Codes by Population\"},\"autosize\":true,\"hovermode\":\"closest\",\"showlegend\":false},                        {\"responsive\": true}                    ).then(function(){\n",
       "                            \n",
       "var gd = document.getElementById('6108df2e-d92c-44e9-b905-b33dd47f7653');\n",
       "var x = new MutationObserver(function (mutations, observer) {{\n",
       "        var display = window.getComputedStyle(gd).display;\n",
       "        if (!display || display === 'none') {{\n",
       "            console.log([gd, 'removed!']);\n",
       "            Plotly.purge(gd);\n",
       "            observer.disconnect();\n",
       "        }}\n",
       "}});\n",
       "\n",
       "// Listen for the removal of the full notebook cells\n",
       "var notebookContainer = gd.closest('#notebook-container');\n",
       "if (notebookContainer) {{\n",
       "    x.observe(notebookContainer, {childList: true});\n",
       "}}\n",
       "\n",
       "// Listen for the clearing of the current output cell\n",
       "var outputEl = gd.closest('.output');\n",
       "if (outputEl) {{\n",
       "    x.observe(outputEl, {childList: true});\n",
       "}}\n",
       "\n",
       "                        })                };                });            </script>        </div>"
      ]
     },
     "metadata": {},
     "output_type": "display_data"
    }
   ],
   "source": [
    "px.set_mapbox_access_token(mapbox_access_token)\n",
    "fig = px.scatter_mapbox(data, lat=\"Latitude\", lon=\"Longitude\", color=\"Zip\",\n",
    "                  color_continuous_scale=px.colors.cyclical.IceFire, size=\"Zip\", size_max=15, zoom=10, hover_name=\"City\")\n",
    "\n",
    "fig.update_layout(\n",
    "    title='Michigan Zip Codes by Population',\n",
    "    autosize=True,\n",
    "    hovermode='closest',\n",
    "    showlegend=False,\n",
    "     mapbox=dict(\n",
    "        accesstoken=mapbox_access_token,\n",
    "        bearing=0,\n",
    "        center=dict(\n",
    "            lat=38,\n",
    "            lon=-94\n",
    "        ),\n",
    "        pitch=0,\n",
    "        zoom=3,\n",
    "        style='light'\n",
    "    ),\n",
    ")\n",
    "fig.show()"
   ]
  }
 ],
 "metadata": {
  "kernelspec": {
   "display_name": "Python 3",
   "language": "python",
   "name": "python3"
  },
  "language_info": {
   "codemirror_mode": {
    "name": "ipython",
    "version": 3
   },
   "file_extension": ".py",
   "mimetype": "text/x-python",
   "name": "python",
   "nbconvert_exporter": "python",
   "pygments_lexer": "ipython3",
   "version": "3.10.8"
  },
  "orig_nbformat": 4
 },
 "nbformat": 4,
 "nbformat_minor": 2
}
